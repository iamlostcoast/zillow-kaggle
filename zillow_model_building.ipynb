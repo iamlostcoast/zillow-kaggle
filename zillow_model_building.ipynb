{
 "cells": [
  {
   "cell_type": "markdown",
   "metadata": {},
   "source": [
    "# Building A Model"
   ]
  },
  {
   "cell_type": "markdown",
   "metadata": {},
   "source": [
    "### CHANGE LOG\n",
    "\n",
    "Things I've done that haven't worked so well:\n",
    "\n",
    "1. Tried OHE all the categorical variables\n",
    "2. Tried linear XGB\n",
    "3. Combined pool columns, don't do this, the number columns actually mean different things\n",
    "\n",
    "\n",
    "Iteration 4:\n",
    "- trying ditching ID columns from current best and OHE on flag columns\n",
    "\n",
    "Iteration 5:\n",
    "- Keeping ID columns, OHE flag columns\n",
    "\n",
    "Iteration 6:\n",
    "- Trying sklearn stacking\n",
    "\n",
    "[Current Best](#currentbest) = iteration 5\n",
    "\n",
    "\n",
    "TO TRY:\n",
    "\n",
    "### Cleaning Up and Imputing Property Data\n",
    "This is where we could do some imputation and cleaning on the property data\n",
    "\n",
    "Things we can do to clean this data:\n",
    "1. one hot encode id columns \n",
    "2. take property zoning down to one column/look into those ones\n",
    "3. OHE flags\n",
    "4. Drop latitude/longitude columns"
   ]
  },
  {
   "cell_type": "code",
   "execution_count": 1,
   "metadata": {},
   "outputs": [
    {
     "name": "stderr",
     "output_type": "stream",
     "text": [
      "//anaconda/lib/python2.7/site-packages/sklearn/cross_validation.py:44: DeprecationWarning: This module was deprecated in version 0.18 in favor of the model_selection module into which all the refactored classes and functions are moved. Also note that the interface of the new CV iterators are different from that of this module. This module will be removed in 0.20.\n",
      "  \"This module will be removed in 0.20.\", DeprecationWarning)\n"
     ]
    }
   ],
   "source": [
    "import pandas as pd\n",
    "import numpy as np\n",
    "import matplotlib.pyplot as plt\n",
    "import seaborn as sns\n",
    "import regex as re\n",
    "import xgboost as xgb\n",
    "import gc\n",
    "from stackerr import stacking_ensemble\n",
    "\n",
    "from sklearn.preprocessing import LabelEncoder, Imputer, StandardScaler\n",
    "from sklearn.model_selection import train_test_split\n",
    "%matplotlib inline\n",
    "\n",
    "color = sns.color_palette()"
   ]
  },
  {
   "cell_type": "code",
   "execution_count": 2,
   "metadata": {},
   "outputs": [
    {
     "name": "stderr",
     "output_type": "stream",
     "text": [
      "//anaconda/lib/python2.7/site-packages/IPython/core/interactiveshell.py:2717: DtypeWarning: Columns (22,32,34,49,55) have mixed types. Specify dtype option on import or set low_memory=False.\n",
      "  interactivity=interactivity, compiler=compiler, result=result)\n"
     ]
    }
   ],
   "source": [
    "prop = pd.read_csv(\"./properties_2016.csv\")\n",
    "train = pd.read_csv(\"./train_2016.csv\")\n",
    "sample_sub = pd.read_csv(\"./sample_submission.csv\")"
   ]
  },
  {
   "cell_type": "code",
   "execution_count": 3,
   "metadata": {
    "collapsed": true
   },
   "outputs": [],
   "source": [
    "xls = pd.ExcelFile(\"./zillow_data_dictionary.xlsx\")\n",
    "names = xls.sheet_names\n",
    "dd_dict = {name.lower().replace(\" \", \"_\"): xls.parse(name) for name in names}"
   ]
  },
  {
   "cell_type": "code",
   "execution_count": 4,
   "metadata": {},
   "outputs": [
    {
     "name": "stdout",
     "output_type": "stream",
     "text": [
      "<class 'pandas.core.frame.DataFrame'>\n",
      "RangeIndex: 90811 entries, 0 to 90810\n",
      "Data columns (total 3 columns):\n",
      "parcelid           90811 non-null int64\n",
      "logerror           90811 non-null float64\n",
      "transactiondate    90811 non-null object\n",
      "dtypes: float64(1), int64(1), object(1)\n",
      "memory usage: 2.1+ MB\n"
     ]
    }
   ],
   "source": [
    "train.info()"
   ]
  },
  {
   "cell_type": "code",
   "execution_count": 4,
   "metadata": {
    "collapsed": true
   },
   "outputs": [],
   "source": [
    "for c, dtype in zip(prop.columns, prop.dtypes):\n",
    "    if dtype == np.float64:\n",
    "        prop[c] = prop[c].astype(np.float64)"
   ]
  },
  {
   "cell_type": "code",
   "execution_count": 55,
   "metadata": {},
   "outputs": [
    {
     "data": {
      "text/plain": [
       "[u'data_dictionary',\n",
       " u'typeconstructiontypeid',\n",
       " u'propertylandusetypeid',\n",
       " u'storytypeid',\n",
       " u'buildingclasstypeid',\n",
       " u'heatingorsystemtypeid',\n",
       " u'airconditioningtypeid',\n",
       " u'architecturalstyletypeid']"
      ]
     },
     "execution_count": 55,
     "metadata": {},
     "output_type": "execute_result"
    }
   ],
   "source": [
    "dd_dict.keys()"
   ]
  },
  {
   "cell_type": "markdown",
   "metadata": {},
   "source": [
    "<a id='current'></a>"
   ]
  },
  {
   "cell_type": "markdown",
   "metadata": {},
   "source": [
    "### CURRENTLY TESTING"
   ]
  },
  {
   "cell_type": "code",
   "execution_count": 2,
   "metadata": {},
   "outputs": [
    {
     "name": "stdout",
     "output_type": "stream",
     "text": [
      "\n",
      "reading files ...\n"
     ]
    },
    {
     "name": "stderr",
     "output_type": "stream",
     "text": [
      "//anaconda/lib/python2.7/site-packages/IPython/core/interactiveshell.py:2717: DtypeWarning: Columns (22,32,34,49,55) have mixed types. Specify dtype option on import or set low_memory=False.\n",
      "  interactivity=interactivity, compiler=compiler, result=result)\n"
     ]
    },
    {
     "name": "stdout",
     "output_type": "stream",
     "text": [
      "\\Imputing Medians ...\n"
     ]
    }
   ],
   "source": [
    "## READING IN AND PREPPING DATA\n",
    "\n",
    "print( \"\\nreading files ...\")\n",
    "properties = pd.read_csv('./properties_2016.csv')\n",
    "train = pd.read_csv(\"./train_2016.csv\")\n",
    "\n",
    "##### PROCESS DATA\n",
    "impute = Imputer(strategy='median')\n",
    "\n",
    "flag_columns = ['hashottuborspa', 'fireplaceflag']\n",
    "\n",
    "print( \"\\Imputing Medians ...\")\n",
    "for c in properties.columns:\n",
    "    if properties[c].dtype == 'float64' and 'id' not in c and 'flag' not in c and c not in flag_columns:\n",
    "        properties[c] = impute.fit_transform(properties[[c]])"
   ]
  },
  {
   "cell_type": "code",
   "execution_count": 3,
   "metadata": {
    "collapsed": true
   },
   "outputs": [],
   "source": [
    "# OHE Flag columns\n",
    "properties['taxdelinquencyflag'] = [1 if val == 'Y' else 0 for val in properties['taxdelinquencyflag'].values]\n",
    "flag_columns = ['hashottuborspa', 'fireplaceflag']\n",
    "for c in flag_columns:\n",
    "    properties[c] = [1 if val == True else 0 for val in properties[c]]\n",
    "\n",
    "drop_columns = ['parcelid', 'logerror','transactiondate','propertyzoningdesc', \n",
    "                         'propertycountylandusecode', 'fireplacecnt']\n",
    "id_columns = [c for c in properties.columns if 'id' in c]\n",
    "drop_columns += id_columns\n",
    "\n",
    "prop_drop_columns = list(drop_columns)\n",
    "prop_drop_columns.remove('logerror')\n",
    "prop_drop_columns.remove('transactiondate')\n",
    "\n",
    "# create train_df and drop out ouliers\n",
    "train_df = train.merge(properties, how='left', on='parcelid')\n",
    "\n",
    "train_df=train_df[ train_df.logerror > -0.4 ]\n",
    "train_df=train_df[ train_df.logerror < 0.419 ]"
   ]
  },
  {
   "cell_type": "code",
   "execution_count": 7,
   "metadata": {},
   "outputs": [
    {
     "name": "stdout",
     "output_type": "stream",
     "text": [
      "scaling training data\n",
      "train test splitting\n"
     ]
    }
   ],
   "source": [
    "# MAKING TEST/TRAIN MATRICES\n",
    "x_train = train_df.drop(drop_columns, axis=1)\n",
    "x_submission = properties.drop(prop_drop_columns, axis=1)\n",
    "\n",
    "y = train_df[\"logerror\"].values.astype(np.float32)\n",
    "\n",
    "print 'scaling training data'\n",
    "scaler = StandardScaler()\n",
    "X_scaled = scaler.fit_transform(x_train)\n",
    "x_submission = scaler.fit_transform(x_submission)\n",
    "\n",
    "print 'train test splitting'\n",
    "X_train, X_test, y_train, y_test = train_test_split(X_scaled, y, test_size=.05, random_state=25)"
   ]
  },
  {
   "cell_type": "code",
   "execution_count": null,
   "metadata": {},
   "outputs": [
    {
     "name": "stdout",
     "output_type": "stream",
     "text": [
      "training stacking regressor\n",
      "fitting base models\n",
      "---> Fitting fold  1.0\n",
      "------> Fitting model  SVR(C=1.0, cache_size=200, coef0=0.0, degree=3, epsilon=0.1, gamma='auto',\n",
      "  kernel='rbf', max_iter=-1, shrinking=True, tol=0.001, verbose=False)\n",
      "------> Fitting model  Ridge(alpha=0.4, copy_X=True, fit_intercept=True, max_iter=None,\n",
      "   normalize=False, random_state=None, solver='auto', tol=0.001)\n",
      "------> Fitting model  Lasso(alpha=0.8, copy_X=True, fit_intercept=True, max_iter=1000,\n",
      "   normalize=False, positive=False, precompute=False, random_state=None,\n",
      "   selection='cyclic', tol=0.0001, warm_start=False)\n",
      "------> Fitting model  GradientBoostingRegressor(alpha=0.8, criterion='mae', init=None,\n",
      "             learning_rate=0.037, loss='ls', max_depth=5,\n",
      "             max_features=None, max_leaf_nodes=None,\n",
      "             min_impurity_split=1e-07, min_samples_leaf=1,\n",
      "             min_samples_split=2, min_weight_fraction_leaf=0.0,\n",
      "             n_estimators=200, presort='auto', random_state=None,\n",
      "             subsample=0.8, verbose=0, warm_start=False)\n"
     ]
    }
   ],
   "source": [
    "from mlxtend.regressor import StackingRegressor\n",
    "from sklearn.linear_model import Ridge, Lasso\n",
    "from sklearn.ensemble import RandomForestRegressor\n",
    "from sklearn.svm import SVR\n",
    "from sklearn.ensemble import ExtraTreesRegressor\n",
    "from sklearn.ensemble import GradientBoostingRegressor\n",
    "from sklearn.metrics import mean_absolute_error\n",
    "\n",
    "print 'training stacking regressor'\n",
    "\n",
    "rfr_1 = RandomForestRegressor(n_estimators=200, criterion='mae', max_depth=6)\n",
    "rfr_2 = RandomForestRegressor(n_estimators=200, criterion='mae', max_depth=5)\n",
    "gbr_1 = GradientBoostingRegressor(n_estimators=200, criterion='mae', max_depth=5, alpha=.8, learning_rate=.037,\n",
    "                                  subsample=.8)\n",
    "gbr_2 = GradientBoostingRegressor(n_estimators=200, criterion='mae', max_depth=6, alpha=.8, learning_rate=.03,\n",
    "                                  subsample=.8)\n",
    "svr = SVR(kernel='rbf')\n",
    "ridge = Ridge(alpha=0.4)\n",
    "lasso = Lasso(alpha=0.8)\n",
    "\n",
    "gbr_3 = GradientBoostingRegressor(n_estimators=200, criterion='mae', max_depth=3, alpha=.4, learning_rate=.1,\n",
    "                                  subsample=.8)\n",
    "\n",
    "stacking_ens = stacking_ensemble(base_models=[svr, ridge, lasso, gbr_1, gbr_2], \n",
    "                   stacking_model=gbr_3)\n",
    "\n",
    "stacking_ens.fit(X_train, y_train)"
   ]
  },
  {
   "cell_type": "code",
   "execution_count": 10,
   "metadata": {},
   "outputs": [
    {
     "name": "stdout",
     "output_type": "stream",
     "text": [
      "Mean Absolute Error: 0.0533\n"
     ]
    }
   ],
   "source": [
    "# Evaluate and visualize the fit\n",
    "\n",
    "print \"Mean Absolute Error: %.4f\" % mean_absolute_error(y_test, stacking_ens.predict(X_test))\n",
    "# print('Variance Score: %.4f' % stac.score(X_scaled, y))"
   ]
  },
  {
   "cell_type": "code",
   "execution_count": 11,
   "metadata": {
    "collapsed": true
   },
   "outputs": [],
   "source": [
    "y_pred = stacking_ens.predict(x_submission)"
   ]
  },
  {
   "cell_type": "code",
   "execution_count": 12,
   "metadata": {
    "collapsed": true
   },
   "outputs": [],
   "source": [
    "submission = pd.read_csv(\"./sample_submission.csv\")\n",
    "\n",
    "# We're just going to make the prediction for each month the same\n",
    "for c in submission.columns:\n",
    "    if c != 'ParcelId':\n",
    "        submission[c] = y_pred\n",
    "\n",
    "submission.to_csv(\"stacking_submission.csv\", index=False, float_format='%.4f')"
   ]
  },
  {
   "cell_type": "markdown",
   "metadata": {},
   "source": [
    "<a id='currentbest'></a>"
   ]
  },
  {
   "cell_type": "markdown",
   "metadata": {},
   "source": [
    "# CURRENT BEST"
   ]
  },
  {
   "cell_type": "code",
   "execution_count": 70,
   "metadata": {
    "collapsed": true
   },
   "outputs": [],
   "source": [
    "##### RE-READ PROPERTIES FILE\n",
    "##### (I tried keeping a copy, but the program crashed.)\n",
    "\n",
    "print( \"\\nRe-reading properties file ...\")\n",
    "properties = pd.read_csv('./properties_2016.csv')\n",
    "\n",
    "##### PROCESS DATA FOR XGBOOST\n",
    "\n",
    "print( \"\\nProcessing data for XGBoost ...\")\n",
    "for c in properties.columns:\n",
    "    properties[c]=properties[c].fillna(-1)\n",
    "    if properties[c].dtype == 'object':\n",
    "        lbl = LabelEncoder()\n",
    "        lbl.fit(list(properties[c].values))\n",
    "        properties[c] = lbl.transform(list(properties[c].values))\n",
    "\n",
    "# OHE Flag columns\n",
    "properties['taxdelinquencyflag'] = [1 if val == 'Y' else 0 for val in properties['taxdelinquencyflag'].values]\n",
    "flag_columns = ['hashottuborspa', 'fireplaceflag']\n",
    "for c in flag_columns:\n",
    "    properties[c] = [1 if val == True else 0 for val in properties[c]]\n",
    "\n",
    "drop_columns = ['parcelid', 'logerror','transactiondate','propertyzoningdesc', \n",
    "                         'propertycountylandusecode', 'fireplacecnt']\n",
    "\n",
    "prop_drop_columns = list(drop_columns)\n",
    "prop_drop_columns.remove('logerror')\n",
    "prop_drop_columns.remove('transactiondate')\n",
    "\n",
    "# create train_df and drop out ouliers\n",
    "train_df = train.merge(properties, how='left', on='parcelid')\n",
    "\n",
    "train_df=train_df[ train_df.logerror > -0.4 ]\n",
    "train_df=train_df[ train_df.logerror < 0.419 ]\n",
    "\n",
    "# MAKING TEST/TRAIN MATRICES\n",
    "x_train = train_df.drop(drop_columns, axis=1)\n",
    "x_test = properties.drop(prop_drop_columns, axis=1)\n",
    "y_train = train_df[\"logerror\"].values.astype(np.float32)\n",
    "y_mean = np.mean(y_train)\n",
    "\n",
    "print('After removing outliers:')     \n",
    "print('Shape train: {}\\nShape test: {}'.format(x_train.shape, x_test.shape))\n",
    "\n",
    "\n",
    "##### RUN XGBOOST\n",
    "\n",
    "print(\"\\nSetting up data for XGBoost ...\")\n",
    "# xgboost params\n",
    "xgb_params = {\n",
    "    'eta': 0.037,\n",
    "    'max_depth': 5,\n",
    "    'subsample': 0.80,\n",
    "    'objective': 'reg:linear',\n",
    "    'eval_metric': 'mae',\n",
    "    'lambda': 0.8,   \n",
    "    'alpha': 0.4, \n",
    "    'base_score': y_mean,\n",
    "    'silent': 1\n",
    "}\n",
    "\n",
    "dtrain = xgb.DMatrix(x_train, y_train)\n",
    "dtest = xgb.DMatrix(x_test)\n",
    "\n",
    "num_boost_rounds = 250\n",
    "print(\"num_boost_rounds=\"+str(num_boost_rounds))\n",
    "\n",
    "# train model\n",
    "print( \"\\nTraining XGBoost ...\")\n",
    "model = xgb.train(dict(xgb_params, silent=1), dtrain, num_boost_round=num_boost_rounds)\n",
    "\n",
    "print( \"\\nPredicting with XGBoost ...\")\n",
    "xgb_pred1 = model.predict(dtest)\n",
    "\n",
    "print( \"\\nFirst XGBoost predictions:\" )\n",
    "print( pd.DataFrame(xgb_pred1).head() )"
   ]
  },
  {
   "cell_type": "code",
   "execution_count": 52,
   "metadata": {
    "collapsed": true
   },
   "outputs": [],
   "source": [
    "submission = pd.read_csv(\"./sample_submission.csv\")\n",
    "\n",
    "# We're just going to make the prediction for each month the same\n",
    "for c in submission.columns:\n",
    "    if c != 'ParcelId':\n",
    "        submission[c] = xgb_pred1\n",
    "\n",
    "submission.to_csv(\"xgboost_LAME_submission.csv\", index=False, float_format='%.4f')"
   ]
  },
  {
   "cell_type": "code",
   "execution_count": null,
   "metadata": {
    "collapsed": true
   },
   "outputs": [],
   "source": []
  },
  {
   "cell_type": "code",
   "execution_count": null,
   "metadata": {
    "collapsed": true
   },
   "outputs": [],
   "source": []
  },
  {
   "cell_type": "code",
   "execution_count": null,
   "metadata": {
    "collapsed": true
   },
   "outputs": [],
   "source": []
  },
  {
   "cell_type": "code",
   "execution_count": null,
   "metadata": {
    "collapsed": true
   },
   "outputs": [],
   "source": []
  },
  {
   "cell_type": "code",
   "execution_count": null,
   "metadata": {
    "collapsed": true
   },
   "outputs": [],
   "source": []
  },
  {
   "cell_type": "code",
   "execution_count": null,
   "metadata": {
    "collapsed": true
   },
   "outputs": [],
   "source": []
  },
  {
   "cell_type": "code",
   "execution_count": null,
   "metadata": {
    "collapsed": true
   },
   "outputs": [],
   "source": []
  },
  {
   "cell_type": "code",
   "execution_count": null,
   "metadata": {
    "collapsed": true
   },
   "outputs": [],
   "source": []
  },
  {
   "cell_type": "code",
   "execution_count": null,
   "metadata": {
    "collapsed": true
   },
   "outputs": [],
   "source": []
  },
  {
   "cell_type": "code",
   "execution_count": null,
   "metadata": {
    "collapsed": true
   },
   "outputs": [],
   "source": []
  },
  {
   "cell_type": "code",
   "execution_count": null,
   "metadata": {
    "collapsed": true
   },
   "outputs": [],
   "source": []
  },
  {
   "cell_type": "code",
   "execution_count": null,
   "metadata": {
    "collapsed": true
   },
   "outputs": [],
   "source": []
  },
  {
   "cell_type": "code",
   "execution_count": null,
   "metadata": {
    "collapsed": true
   },
   "outputs": [],
   "source": []
  },
  {
   "cell_type": "code",
   "execution_count": 6,
   "metadata": {},
   "outputs": [
    {
     "name": "stdout",
     "output_type": "stream",
     "text": [
      "2016-04-29    917\n",
      "2016-07-29    912\n",
      "2016-09-30    900\n",
      "2016-06-30    878\n",
      "2016-05-27    876\n",
      "Name: transactiondate, dtype: int64\n",
      "------\n",
      "True    2365\n",
      "Name: hashottuborspa, dtype: int64\n",
      "------\n",
      "0100    30846\n",
      "122     15383\n",
      "010C    10264\n",
      "0101     7435\n",
      "34       5946\n",
      "Name: propertycountylandusecode, dtype: int64\n",
      "------\n",
      "LAR1       7678\n",
      "LAR3       2801\n",
      "LARS       1503\n",
      "LBR1N      1459\n",
      "LARD1.5    1305\n",
      "Name: propertyzoningdesc, dtype: int64\n",
      "------\n",
      "True    222\n",
      "Name: fireplaceflag, dtype: int64\n",
      "------\n",
      "Y    1783\n",
      "Name: taxdelinquencyflag, dtype: int64\n",
      "------\n"
     ]
    },
    {
     "name": "stderr",
     "output_type": "stream",
     "text": [
      "//anaconda/lib/python2.7/json/encoder.py:207: DeprecationWarning: Interpreting naive datetime as local 2017-08-28 12:00:32.684387. Please add timezone info to timestamps.\n",
      "  chunks = self.iterencode(o, _one_shot=True)\n"
     ]
    }
   ],
   "source": [
    "# Let's see what's going on with the object collumns in the data.\n",
    "\n",
    "for c in train_df.dtypes[train_df.dtypes == 'object'].index.values:\n",
    "    print train_df[c].value_counts()[0:5]\n",
    "    print '------'"
   ]
  },
  {
   "cell_type": "markdown",
   "metadata": {},
   "source": [
    "For now we'll just drop the object columns that aren't binary, and we'll change the binary to boolean Trues because they're just flags."
   ]
  },
  {
   "cell_type": "code",
   "execution_count": 7,
   "metadata": {},
   "outputs": [
    {
     "name": "stderr",
     "output_type": "stream",
     "text": [
      "//anaconda/lib/python2.7/json/encoder.py:207: DeprecationWarning: Interpreting naive datetime as local 2017-08-28 12:00:32.775265. Please add timezone info to timestamps.\n",
      "  chunks = self.iterencode(o, _one_shot=True)\n"
     ]
    }
   ],
   "source": [
    "x_train = train_df.drop(['parcelid', 'logerror', 'transactiondate', 'propertyzoningdesc', 'propertycountylandusecode'],\n",
    "                       axis = 1)"
   ]
  },
  {
   "cell_type": "code",
   "execution_count": 8,
   "metadata": {},
   "outputs": [
    {
     "data": {
      "text/plain": [
       "Y    1783\n",
       "Name: taxdelinquencyflag, dtype: int64"
      ]
     },
     "execution_count": 8,
     "metadata": {},
     "output_type": "execute_result"
    },
    {
     "name": "stderr",
     "output_type": "stream",
     "text": [
      "//anaconda/lib/python2.7/json/encoder.py:207: DeprecationWarning: Interpreting naive datetime as local 2017-08-28 12:00:32.899732. Please add timezone info to timestamps.\n",
      "  chunks = self.iterencode(o, _one_shot=True)\n"
     ]
    }
   ],
   "source": [
    "x_train['taxdelinquencyflag'].value_counts()"
   ]
  },
  {
   "cell_type": "code",
   "execution_count": 9,
   "metadata": {},
   "outputs": [
    {
     "name": "stdout",
     "output_type": "stream",
     "text": [
      "column:  hashottuborspa\n",
      "column:  fireplaceflag\n"
     ]
    },
    {
     "name": "stderr",
     "output_type": "stream",
     "text": [
      "//anaconda/lib/python2.7/json/encoder.py:207: DeprecationWarning: Interpreting naive datetime as local 2017-08-28 12:00:32.924268. Please add timezone info to timestamps.\n",
      "  chunks = self.iterencode(o, _one_shot=True)\n"
     ]
    }
   ],
   "source": [
    "object_columns = x_train.dtypes[x_train.dtypes == 'object'].index.values.tolist()\n",
    "object_columns.remove('taxdelinquencyflag')\n",
    "for c in object_columns:\n",
    "    print 'column: ', c\n",
    "    x_train[c] = [1 if val == True else 0 for val in x_train[c]]\n",
    "\n",
    "x_train['taxdelinquencyflag'] = [1 if val == 'Y' else 0 for val in x_train['taxdelinquencyflag'].values]\n",
    "\n",
    "for c in x_train.columns:\n",
    "    x_train[c] = x_train[c].astype(np.float64)"
   ]
  },
  {
   "cell_type": "markdown",
   "metadata": {},
   "source": [
    "Let's go ahead and ditch any column that is an \"id\" of some kind, we'll add these to a list to one hot encode later"
   ]
  },
  {
   "cell_type": "code",
   "execution_count": 57,
   "metadata": {},
   "outputs": [
    {
     "name": "stderr",
     "output_type": "stream",
     "text": [
      "//anaconda/lib/python2.7/json/encoder.py:207: DeprecationWarning: Interpreting naive datetime as local 2017-08-28 13:03:55.568010. Please add timezone info to timestamps.\n",
      "  chunks = self.iterencode(o, _one_shot=True)\n"
     ]
    }
   ],
   "source": [
    "columns = x_train.columns\n",
    "\n",
    "id_columns = []\n",
    "for element in columns:\n",
    "    m = re.match(\"\\w+id$\", element)\n",
    "    if m:\n",
    "        id_columns.append(element)"
   ]
  },
  {
   "cell_type": "code",
   "execution_count": 58,
   "metadata": {},
   "outputs": [
    {
     "name": "stderr",
     "output_type": "stream",
     "text": [
      "//anaconda/lib/python2.7/json/encoder.py:207: DeprecationWarning: Interpreting naive datetime as local 2017-08-28 13:03:56.252746. Please add timezone info to timestamps.\n",
      "  chunks = self.iterencode(o, _one_shot=True)\n"
     ]
    }
   ],
   "source": [
    "x_train = x_train.drop(id_columns, axis = 1)"
   ]
  },
  {
   "cell_type": "code",
   "execution_count": 59,
   "metadata": {},
   "outputs": [
    {
     "name": "stderr",
     "output_type": "stream",
     "text": [
      "//anaconda/lib/python2.7/json/encoder.py:207: DeprecationWarning: Interpreting naive datetime as local 2017-08-28 13:03:56.828990. Please add timezone info to timestamps.\n",
      "  chunks = self.iterencode(o, _one_shot=True)\n"
     ]
    }
   ],
   "source": [
    "y_train = train_df['logerror'].values\n",
    "\n",
    "from sklearn.model_selection import train_test_split\n",
    "\n",
    "X_train, X_test, y_train, y_test = train_test_split(x_train, y_train, test_size=.1, random_state=25)\n",
    "\n",
    "d_train = xgb.DMatrix(X_train, label=y_train)\n",
    "d_valid = xgb.DMatrix(X_test, label=y_test)\n",
    "\n",
    "# saving train columns for use later when we prepare the testing data\n",
    "\n",
    "train_columns = x_train.columns"
   ]
  },
  {
   "cell_type": "markdown",
   "metadata": {},
   "source": [
    "### Boosted Tree Model"
   ]
  },
  {
   "cell_type": "code",
   "execution_count": 64,
   "metadata": {},
   "outputs": [
    {
     "name": "stdout",
     "output_type": "stream",
     "text": [
      "[0]\ttrain-mae:0.48819\tvalid-mae:0.48711\n",
      "Multiple eval metrics have been passed: 'valid-mae' will be used for early stopping.\n",
      "\n",
      "Will train until valid-mae hasn't improved in 100 rounds.\n",
      "[10]\ttrain-mae:0.402317\tvalid-mae:0.401478\n",
      "[20]\ttrain-mae:0.332754\tvalid-mae:0.33219\n",
      "[30]\ttrain-mae:0.276581\tvalid-mae:0.276345\n",
      "[40]\ttrain-mae:0.231378\tvalid-mae:0.231488\n",
      "[50]\ttrain-mae:0.195135\tvalid-mae:0.195575\n",
      "[60]\ttrain-mae:0.166209\tvalid-mae:0.167009\n",
      "[70]\ttrain-mae:0.143215\tvalid-mae:0.144424\n",
      "[80]\ttrain-mae:0.125092\tvalid-mae:0.126649\n",
      "[90]\ttrain-mae:0.110953\tvalid-mae:0.112784\n",
      "[100]\ttrain-mae:0.10003\tvalid-mae:0.102087\n",
      "[110]\ttrain-mae:0.091692\tvalid-mae:0.093957\n",
      "[120]\ttrain-mae:0.085415\tvalid-mae:0.087879\n",
      "[130]\ttrain-mae:0.080761\tvalid-mae:0.083394\n",
      "[140]\ttrain-mae:0.077346\tvalid-mae:0.080127\n",
      "[150]\ttrain-mae:0.074846\tvalid-mae:0.077765\n",
      "[160]\ttrain-mae:0.073038\tvalid-mae:0.076067\n",
      "[170]\ttrain-mae:0.071722\tvalid-mae:0.074844\n",
      "[180]\ttrain-mae:0.07077\tvalid-mae:0.073973\n",
      "[190]\ttrain-mae:0.070081\tvalid-mae:0.073345\n",
      "[200]\ttrain-mae:0.069575\tvalid-mae:0.072882\n",
      "[210]\ttrain-mae:0.069203\tvalid-mae:0.072557\n",
      "[220]\ttrain-mae:0.068924\tvalid-mae:0.072308\n",
      "[230]\ttrain-mae:0.068715\tvalid-mae:0.072135\n",
      "[240]\ttrain-mae:0.068552\tvalid-mae:0.072007\n",
      "[250]\ttrain-mae:0.068427\tvalid-mae:0.07191\n",
      "[260]\ttrain-mae:0.068331\tvalid-mae:0.071836\n",
      "[270]\ttrain-mae:0.068247\tvalid-mae:0.071784\n",
      "[280]\ttrain-mae:0.068184\tvalid-mae:0.071741\n",
      "[290]\ttrain-mae:0.068127\tvalid-mae:0.071717\n",
      "[300]\ttrain-mae:0.068082\tvalid-mae:0.071693\n",
      "[310]\ttrain-mae:0.068045\tvalid-mae:0.07168\n",
      "[320]\ttrain-mae:0.068011\tvalid-mae:0.071672\n",
      "[330]\ttrain-mae:0.067984\tvalid-mae:0.07167\n",
      "[340]\ttrain-mae:0.067961\tvalid-mae:0.071669\n",
      "[350]\ttrain-mae:0.067942\tvalid-mae:0.071663\n",
      "[360]\ttrain-mae:0.067922\tvalid-mae:0.071664\n",
      "[370]\ttrain-mae:0.067901\tvalid-mae:0.071656\n",
      "[380]\ttrain-mae:0.067883\tvalid-mae:0.07166\n",
      "[390]\ttrain-mae:0.067869\tvalid-mae:0.07166\n",
      "[400]\ttrain-mae:0.067853\tvalid-mae:0.071666\n",
      "[410]\ttrain-mae:0.067842\tvalid-mae:0.071673\n",
      "[420]\ttrain-mae:0.06783\tvalid-mae:0.071675\n",
      "[430]\ttrain-mae:0.067814\tvalid-mae:0.071668\n",
      "[440]\ttrain-mae:0.067795\tvalid-mae:0.071675\n",
      "[450]\ttrain-mae:0.067785\tvalid-mae:0.071687\n",
      "[460]\ttrain-mae:0.067771\tvalid-mae:0.071692\n",
      "Stopping. Best iteration:\n",
      "[369]\ttrain-mae:0.067902\tvalid-mae:0.071655\n",
      "\n"
     ]
    },
    {
     "name": "stderr",
     "output_type": "stream",
     "text": [
      "//anaconda/lib/python2.7/json/encoder.py:207: DeprecationWarning: Interpreting naive datetime as local 2017-08-28 13:04:20.364380. Please add timezone info to timestamps.\n",
      "  chunks = self.iterencode(o, _one_shot=True)\n"
     ]
    }
   ],
   "source": [
    "params = {\n",
    "    'eta': 0.02,\n",
    "    'objective': 'reg:linear',\n",
    "    'eval_metric': 'mae',\n",
    "    'max_depth': 4,\n",
    "    'silent': 1\n",
    "}\n",
    "\n",
    "watchlist = [(d_train, 'train'), (d_valid, 'valid')]\n",
    "clf = xgb.train(params, d_train, num_boost_round=10000, evals=watchlist, early_stopping_rounds=100,\n",
    "                verbose_eval=10)"
   ]
  },
  {
   "cell_type": "markdown",
   "metadata": {},
   "source": [
    "### Boosted Linear Model"
   ]
  },
  {
   "cell_type": "code",
   "execution_count": 110,
   "metadata": {
    "collapsed": true
   },
   "outputs": [
    {
     "ename": "ValueError",
     "evalue": "Input contains NaN, infinity or a value too large for dtype('float64').",
     "output_type": "error",
     "traceback": [
      "\u001b[0;31m---------------------------------------------------------------------------\u001b[0m",
      "\u001b[0;31mValueError\u001b[0m                                Traceback (most recent call last)",
      "\u001b[0;32m<ipython-input-110-e4a0d34e2a0e>\u001b[0m in \u001b[0;36m<module>\u001b[0;34m()\u001b[0m\n\u001b[1;32m      2\u001b[0m \u001b[0;34m\u001b[0m\u001b[0m\n\u001b[1;32m      3\u001b[0m \u001b[0mscaler\u001b[0m \u001b[0;34m=\u001b[0m \u001b[0mStandardScaler\u001b[0m\u001b[0;34m(\u001b[0m\u001b[0;34m)\u001b[0m\u001b[0;34m\u001b[0m\u001b[0m\n\u001b[0;32m----> 4\u001b[0;31m \u001b[0mx_train_scaled\u001b[0m \u001b[0;34m=\u001b[0m \u001b[0mscaler\u001b[0m\u001b[0;34m.\u001b[0m\u001b[0mfit_transform\u001b[0m\u001b[0;34m(\u001b[0m\u001b[0mx_train\u001b[0m\u001b[0;34m)\u001b[0m\u001b[0;34m\u001b[0m\u001b[0m\n\u001b[0m",
      "\u001b[0;32m//anaconda/lib/python2.7/site-packages/sklearn/base.pyc\u001b[0m in \u001b[0;36mfit_transform\u001b[0;34m(self, X, y, **fit_params)\u001b[0m\n\u001b[1;32m    492\u001b[0m         \u001b[0;32mif\u001b[0m \u001b[0my\u001b[0m \u001b[0;32mis\u001b[0m \u001b[0mNone\u001b[0m\u001b[0;34m:\u001b[0m\u001b[0;34m\u001b[0m\u001b[0m\n\u001b[1;32m    493\u001b[0m             \u001b[0;31m# fit method of arity 1 (unsupervised transformation)\u001b[0m\u001b[0;34m\u001b[0m\u001b[0;34m\u001b[0m\u001b[0m\n\u001b[0;32m--> 494\u001b[0;31m             \u001b[0;32mreturn\u001b[0m \u001b[0mself\u001b[0m\u001b[0;34m.\u001b[0m\u001b[0mfit\u001b[0m\u001b[0;34m(\u001b[0m\u001b[0mX\u001b[0m\u001b[0;34m,\u001b[0m \u001b[0;34m**\u001b[0m\u001b[0mfit_params\u001b[0m\u001b[0;34m)\u001b[0m\u001b[0;34m.\u001b[0m\u001b[0mtransform\u001b[0m\u001b[0;34m(\u001b[0m\u001b[0mX\u001b[0m\u001b[0;34m)\u001b[0m\u001b[0;34m\u001b[0m\u001b[0m\n\u001b[0m\u001b[1;32m    495\u001b[0m         \u001b[0;32melse\u001b[0m\u001b[0;34m:\u001b[0m\u001b[0;34m\u001b[0m\u001b[0m\n\u001b[1;32m    496\u001b[0m             \u001b[0;31m# fit method of arity 2 (supervised transformation)\u001b[0m\u001b[0;34m\u001b[0m\u001b[0;34m\u001b[0m\u001b[0m\n",
      "\u001b[0;32m//anaconda/lib/python2.7/site-packages/sklearn/preprocessing/data.pyc\u001b[0m in \u001b[0;36mfit\u001b[0;34m(self, X, y)\u001b[0m\n\u001b[1;32m    558\u001b[0m         \u001b[0;31m# Reset internal state before fitting\u001b[0m\u001b[0;34m\u001b[0m\u001b[0;34m\u001b[0m\u001b[0m\n\u001b[1;32m    559\u001b[0m         \u001b[0mself\u001b[0m\u001b[0;34m.\u001b[0m\u001b[0m_reset\u001b[0m\u001b[0;34m(\u001b[0m\u001b[0;34m)\u001b[0m\u001b[0;34m\u001b[0m\u001b[0m\n\u001b[0;32m--> 560\u001b[0;31m         \u001b[0;32mreturn\u001b[0m \u001b[0mself\u001b[0m\u001b[0;34m.\u001b[0m\u001b[0mpartial_fit\u001b[0m\u001b[0;34m(\u001b[0m\u001b[0mX\u001b[0m\u001b[0;34m,\u001b[0m \u001b[0my\u001b[0m\u001b[0;34m)\u001b[0m\u001b[0;34m\u001b[0m\u001b[0m\n\u001b[0m\u001b[1;32m    561\u001b[0m \u001b[0;34m\u001b[0m\u001b[0m\n\u001b[1;32m    562\u001b[0m     \u001b[0;32mdef\u001b[0m \u001b[0mpartial_fit\u001b[0m\u001b[0;34m(\u001b[0m\u001b[0mself\u001b[0m\u001b[0;34m,\u001b[0m \u001b[0mX\u001b[0m\u001b[0;34m,\u001b[0m \u001b[0my\u001b[0m\u001b[0;34m=\u001b[0m\u001b[0mNone\u001b[0m\u001b[0;34m)\u001b[0m\u001b[0;34m:\u001b[0m\u001b[0;34m\u001b[0m\u001b[0m\n",
      "\u001b[0;32m//anaconda/lib/python2.7/site-packages/sklearn/preprocessing/data.pyc\u001b[0m in \u001b[0;36mpartial_fit\u001b[0;34m(self, X, y)\u001b[0m\n\u001b[1;32m    581\u001b[0m         X = check_array(X, accept_sparse=('csr', 'csc'), copy=self.copy,\n\u001b[1;32m    582\u001b[0m                         \u001b[0mensure_2d\u001b[0m\u001b[0;34m=\u001b[0m\u001b[0mFalse\u001b[0m\u001b[0;34m,\u001b[0m \u001b[0mwarn_on_dtype\u001b[0m\u001b[0;34m=\u001b[0m\u001b[0mTrue\u001b[0m\u001b[0;34m,\u001b[0m\u001b[0;34m\u001b[0m\u001b[0m\n\u001b[0;32m--> 583\u001b[0;31m                         estimator=self, dtype=FLOAT_DTYPES)\n\u001b[0m\u001b[1;32m    584\u001b[0m \u001b[0;34m\u001b[0m\u001b[0m\n\u001b[1;32m    585\u001b[0m         \u001b[0;32mif\u001b[0m \u001b[0mX\u001b[0m\u001b[0;34m.\u001b[0m\u001b[0mndim\u001b[0m \u001b[0;34m==\u001b[0m \u001b[0;36m1\u001b[0m\u001b[0;34m:\u001b[0m\u001b[0;34m\u001b[0m\u001b[0m\n",
      "\u001b[0;32m//anaconda/lib/python2.7/site-packages/sklearn/utils/validation.pyc\u001b[0m in \u001b[0;36mcheck_array\u001b[0;34m(array, accept_sparse, dtype, order, copy, force_all_finite, ensure_2d, allow_nd, ensure_min_samples, ensure_min_features, warn_on_dtype, estimator)\u001b[0m\n\u001b[1;32m    405\u001b[0m                              % (array.ndim, estimator_name))\n\u001b[1;32m    406\u001b[0m         \u001b[0;32mif\u001b[0m \u001b[0mforce_all_finite\u001b[0m\u001b[0;34m:\u001b[0m\u001b[0;34m\u001b[0m\u001b[0m\n\u001b[0;32m--> 407\u001b[0;31m             \u001b[0m_assert_all_finite\u001b[0m\u001b[0;34m(\u001b[0m\u001b[0marray\u001b[0m\u001b[0;34m)\u001b[0m\u001b[0;34m\u001b[0m\u001b[0m\n\u001b[0m\u001b[1;32m    408\u001b[0m \u001b[0;34m\u001b[0m\u001b[0m\n\u001b[1;32m    409\u001b[0m     \u001b[0mshape_repr\u001b[0m \u001b[0;34m=\u001b[0m \u001b[0m_shape_repr\u001b[0m\u001b[0;34m(\u001b[0m\u001b[0marray\u001b[0m\u001b[0;34m.\u001b[0m\u001b[0mshape\u001b[0m\u001b[0;34m)\u001b[0m\u001b[0;34m\u001b[0m\u001b[0m\n",
      "\u001b[0;32m//anaconda/lib/python2.7/site-packages/sklearn/utils/validation.pyc\u001b[0m in \u001b[0;36m_assert_all_finite\u001b[0;34m(X)\u001b[0m\n\u001b[1;32m     56\u001b[0m             and not np.isfinite(X).all()):\n\u001b[1;32m     57\u001b[0m         raise ValueError(\"Input contains NaN, infinity\"\n\u001b[0;32m---> 58\u001b[0;31m                          \" or a value too large for %r.\" % X.dtype)\n\u001b[0m\u001b[1;32m     59\u001b[0m \u001b[0;34m\u001b[0m\u001b[0m\n\u001b[1;32m     60\u001b[0m \u001b[0;34m\u001b[0m\u001b[0m\n",
      "\u001b[0;31mValueError\u001b[0m: Input contains NaN, infinity or a value too large for dtype('float64')."
     ]
    },
    {
     "name": "stderr",
     "output_type": "stream",
     "text": [
      "//anaconda/lib/python2.7/json/encoder.py:207: DeprecationWarning: Interpreting naive datetime as local 2017-08-28 14:04:36.626049. Please add timezone info to timestamps.\n",
      "  chunks = self.iterencode(o, _one_shot=True)\n"
     ]
    }
   ],
   "source": [
    "from sklearn.preprocessing import StandardScaler\n",
    "\n",
    "scaler = StandardScaler()\n",
    "x_train_scaled = scaler.fit_transform(x_train)"
   ]
  },
  {
   "cell_type": "code",
   "execution_count": null,
   "metadata": {
    "collapsed": true
   },
   "outputs": [],
   "source": [
    "X_train, X_test, y_train, y_test = train_test_split(x_train, y_train, test_size=.1, random_state=25)"
   ]
  },
  {
   "cell_type": "code",
   "execution_count": 88,
   "metadata": {},
   "outputs": [
    {
     "name": "stdout",
     "output_type": "stream",
     "text": [
      "[0]\ttrain-mae:0.354364\tvalid-mae:0.353725\n",
      "Multiple eval metrics have been passed: 'valid-mae' will be used for early stopping.\n",
      "\n",
      "Will train until valid-mae hasn't improved in 50 rounds.\n",
      "[10]\ttrain-mae:0.069463\tvalid-mae:0.073554\n",
      "[20]\ttrain-mae:0.067204\tvalid-mae:0.072441\n",
      "[30]\ttrain-mae:0.066688\tvalid-mae:0.072788\n",
      "[40]\ttrain-mae:0.066214\tvalid-mae:0.07313\n",
      "[50]\ttrain-mae:0.065799\tvalid-mae:0.073367\n",
      "[60]\ttrain-mae:0.065346\tvalid-mae:0.0738\n",
      "Stopping. Best iteration:\n",
      "[16]\ttrain-mae:0.067542\tvalid-mae:0.072187\n",
      "\n"
     ]
    },
    {
     "name": "stderr",
     "output_type": "stream",
     "text": [
      "//anaconda/lib/python2.7/json/encoder.py:207: DeprecationWarning: Interpreting naive datetime as local 2017-08-28 13:41:31.106697. Please add timezone info to timestamps.\n",
      "  chunks = self.iterencode(o, _one_shot=True)\n"
     ]
    }
   ],
   "source": [
    "linear_params = {\n",
    "    'lambda': .2,\n",
    "    'alpha': 1,\n",
    "    'lambda_bias': .1,\n",
    "    'eval_metric': 'mae',\n",
    "}\n",
    "\n",
    "watchlist = [(d_train, 'train'), (d_valid, 'valid')]\n",
    "linear_xgb = xgb.train(linear_params, d_train, num_boost_round=10000, evals=watchlist, early_stopping_rounds=50,\n",
    "                verbose_eval=10)"
   ]
  },
  {
   "cell_type": "markdown",
   "metadata": {},
   "source": [
    "### Plotting Model Residuals"
   ]
  },
  {
   "cell_type": "code",
   "execution_count": 102,
   "metadata": {},
   "outputs": [
    {
     "name": "stderr",
     "output_type": "stream",
     "text": [
      "//anaconda/lib/python2.7/json/encoder.py:207: DeprecationWarning: Interpreting naive datetime as local 2017-08-28 13:52:21.791739. Please add timezone info to timestamps.\n",
      "  chunks = self.iterencode(o, _one_shot=True)\n"
     ]
    }
   ],
   "source": [
    "# first we'll look at the linear model residuals\n",
    "\n",
    "all_x_d = xgb.DMatrix(x_train)\n",
    "linear_pred_train = linear_xgb.predict(all_x_d)\n",
    "\n",
    "residuals = linear_pred_train - train_df['logerror'].values"
   ]
  },
  {
   "cell_type": "code",
   "execution_count": 106,
   "metadata": {
    "scrolled": false
   },
   "outputs": [
    {
     "data": {
      "text/plain": [
       "<matplotlib.collections.PathCollection at 0x111e48650>"
      ]
     },
     "execution_count": 106,
     "metadata": {},
     "output_type": "execute_result"
    },
    {
     "data": {
      "image/png": "[encoded data removed]",
      "text/plain": [
       "<matplotlib.figure.Figure at 0x112232a90>"
      ]
     },
     "metadata": {},
     "output_type": "display_data"
    },
    {
     "name": "stderr",
     "output_type": "stream",
     "text": [
      "//anaconda/lib/python2.7/json/encoder.py:207: DeprecationWarning: Interpreting naive datetime as local 2017-08-28 13:53:54.601849. Please add timezone info to timestamps.\n",
      "  chunks = self.iterencode(o, _one_shot=True)\n"
     ]
    }
   ],
   "source": [
    "plt.figure(figsize=(10,7))\n",
    "plt.scatter(x=train_df['logerror'], y=residuals)"
   ]
  },
  {
   "cell_type": "markdown",
   "metadata": {},
   "source": [
    "There's clearly a lot of bias in this model, estimated guesses are not able to account for extremes on either end, it looks like we're underguessing on large values and overguessing on small values."
   ]
  },
  {
   "cell_type": "code",
   "execution_count": 108,
   "metadata": {
    "scrolled": false
   },
   "outputs": [
    {
     "data": {
      "text/plain": [
       "<matplotlib.collections.PathCollection at 0x1123e5f90>"
      ]
     },
     "execution_count": 108,
     "metadata": {},
     "output_type": "execute_result"
    },
    {
     "data": {
      "image/png": "[encoded data removed]",
      "text/plain": [
       "<matplotlib.figure.Figure at 0x111fdaa90>"
      ]
     },
     "metadata": {},
     "output_type": "display_data"
    },
    {
     "name": "stderr",
     "output_type": "stream",
     "text": [
      "//anaconda/lib/python2.7/json/encoder.py:207: DeprecationWarning: Interpreting naive datetime as local 2017-08-28 13:58:46.783745. Please add timezone info to timestamps.\n",
      "  chunks = self.iterencode(o, _one_shot=True)\n"
     ]
    }
   ],
   "source": [
    "# now let's look at the tree model residuals\n",
    "\n",
    "tree_pred_train = clf.predict(all_x_d)\n",
    "\n",
    "tree_residuals = tree_pred_train - train_df['logerror'].values\n",
    "plt.figure(figsize=(10,7))\n",
    "plt.scatter(x=train_df['logerror'], y=tree_residuals)"
   ]
  },
  {
   "cell_type": "code",
   "execution_count": null,
   "metadata": {
    "collapsed": true
   },
   "outputs": [],
   "source": []
  },
  {
   "cell_type": "code",
   "execution_count": null,
   "metadata": {
    "collapsed": true
   },
   "outputs": [],
   "source": []
  },
  {
   "cell_type": "code",
   "execution_count": null,
   "metadata": {
    "collapsed": true
   },
   "outputs": [],
   "source": []
  },
  {
   "cell_type": "code",
   "execution_count": null,
   "metadata": {
    "collapsed": true
   },
   "outputs": [],
   "source": [
    "### LEGACY CODE\n",
    "\n",
    "\n",
    "#### GET DUMMY COLUMNS FOR TRAIN\n",
    "#### THIS IS BAD BECAUSE WE NEED TO DO IT FOR THE WHOLE PROPERTY DATA SET TO USE IT IN FINAL MODEL\n",
    "\n",
    "# id_columns = [c for c in train_df.columns if 'id' in c]\n",
    "# id_columns.remove('parcelid')\n",
    "\n",
    "# print 'getting dummies...'\n",
    "# for c in id_columns:\n",
    "#     column_data = pd.get_dummies(train_df[c])\n",
    "#     column_data.rename(columns={col: str(c) + \"_\" + str(col) for col in column_data.columns}, inplace=True)\n",
    "#     train_df[column_data.columns] = column_data\n",
    "\n",
    "# print \"dropping null rows\"\n",
    "# for c in train_df.columns:\n",
    "#     if str(null_id) in c:\n",
    "#         del(train_df[c])"
   ]
  },
  {
   "cell_type": "code",
   "execution_count": null,
   "metadata": {
    "collapsed": true
   },
   "outputs": [],
   "source": [
    "# Going to impute the median for all of the continuous columns\n",
    "\n",
    "from sklearn.preprocessing import Imputer\n",
    "\n",
    "cont_columns = [c for c in train_df.columns if 'id' not in c]\n",
    "cont_columns.remove('taxdelinquencyflag')\n",
    "cont_columns.remove('hashottuborspa')\n",
    "cont_columns.remove('fireplaceflag')\n",
    "cont_columns.remove('logerror')\n",
    "cont_columns.remove('transactiondate')\n",
    "cont_columns.remove('censustractandblock')\n",
    "cont_columns.remove('propertycountylandusecode')\n",
    "cont_columns.remove('propertyzoningdesc')\n",
    "\n",
    "impute = Imputer(strategy='median', axis=0)\n",
    "\n",
    "for c in cont_columns:\n",
    "    train_df[c] = impute.fit_transform(train_df[[c]])\n",
    "\n",
    "# DROPPING REALLY LOW COUNT COLUMNS\n",
    "\n",
    "for c in train_df.columns:\n",
    "    if train_df[c].count() <= 800:\n",
    "        del(train_df[c])\n",
    "\n",
    "null_id = 1234\n",
    "\n",
    "print 'filling nulls...'\n",
    "for c in id_columns:\n",
    "    train_df[c] = train_df[c].fillna(null_id)"
   ]
  }
 ],
 "metadata": {
  "kernelspec": {
   "display_name": "Python 2",
   "language": "python",
   "name": "python2"
  },
  "language_info": {
   "codemirror_mode": {
    "name": "ipython",
    "version": 2
   },
   "file_extension": ".py",
   "mimetype": "text/x-python",
   "name": "python",
   "nbconvert_exporter": "python",
   "pygments_lexer": "ipython2",
   "version": "2.7.12"
  }
 },
 "nbformat": 4,
 "nbformat_minor": 2
}
